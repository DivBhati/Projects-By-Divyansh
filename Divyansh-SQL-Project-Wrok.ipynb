{
 "cells": [
  {
   "cell_type": "code",
   "execution_count": null,
   "id": "989941ec",
   "metadata": {},
   "outputs": [],
   "source": [
    "# Work is written as wrok just to remember.\n",
    "# Download the files just uploaded on github"
   ]
  },
  {
   "cell_type": "code",
   "execution_count": null,
   "id": "6ed43d0e",
   "metadata": {},
   "outputs": [],
   "source": [
    "import pandas as pd\n",
    "import numpy as np\n",
    "import mysql.connector as MySQL"
   ]
  },
  {
   "cell_type": "code",
   "execution_count": null,
   "id": "2d0c8270",
   "metadata": {},
   "outputs": [],
   "source": [
    "Data = MySQL.connect(\n",
    "  host=\"localhost\",\n",
    "  user=\"root\",\n",
    "  password=\"Divyansh\",\n",
    "  database=\"divyansh\"\n",
    ")\n"
   ]
  },
  {
   "cell_type": "code",
   "execution_count": null,
   "id": "4c29704a",
   "metadata": {},
   "outputs": [],
   "source": [
    "Cursor = Data.cursor()"
   ]
  },
  {
   "cell_type": "code",
   "execution_count": null,
   "id": "db7d1d31",
   "metadata": {},
   "outputs": [],
   "source": [
    "# Well the file which is of .sql type has many data in it! I will use only one out of it.\n",
    "Cursor.execute(\"Select * from City;\")"
   ]
  },
  {
   "cell_type": "code",
   "execution_count": null,
   "id": "3c0ae732",
   "metadata": {},
   "outputs": [],
   "source": [
    "Output = Cursor.fetchall()"
   ]
  },
  {
   "cell_type": "code",
   "execution_count": null,
   "id": "1b606516",
   "metadata": {},
   "outputs": [],
   "source": [
    "for x in Output:\n",
    "    print(x)"
   ]
  },
  {
   "cell_type": "code",
   "execution_count": null,
   "id": "24d41d6b",
   "metadata": {},
   "outputs": [],
   "source": [
    "# Powered By Divyansh"
   ]
  }
 ],
 "metadata": {
  "kernelspec": {
   "display_name": "Python 3 (ipykernel)",
   "language": "python",
   "name": "python3"
  },
  "language_info": {
   "codemirror_mode": {
    "name": "ipython",
    "version": 3
   },
   "file_extension": ".py",
   "mimetype": "text/x-python",
   "name": "python",
   "nbconvert_exporter": "python",
   "pygments_lexer": "ipython3",
   "version": "3.9.7"
  }
 },
 "nbformat": 4,
 "nbformat_minor": 5
}
